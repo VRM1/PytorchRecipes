{
 "cells": [
  {
   "cell_type": "code",
   "execution_count": 1,
   "metadata": {},
   "outputs": [
    {
     "name": "stderr",
     "output_type": "stream",
     "text": [
      "/home/vineeth/anaconda3/envs/pytorch_03_2023/lib/python3.10/site-packages/tqdm/auto.py:22: TqdmWarning: IProgress not found. Please update jupyter and ipywidgets. See https://ipywidgets.readthedocs.io/en/stable/user_install.html\n",
      "  from .autonotebook import tqdm as notebook_tqdm\n"
     ]
    }
   ],
   "source": [
    "import pandas as pd\n",
    "import numpy as np\n",
    "import torch\n",
    "from sklearn.model_selection import train_test_split\n",
    "from tqdm.notebook import tqdm as tqdm\n",
    "from pytorch_widedeep import Trainer\n",
    "from pytorch_widedeep.preprocessing import WidePreprocessor, TabPreprocessor\n",
    "from pytorch_widedeep.models import Wide, TabMlp, WideDeep\n",
    "from pytorch_widedeep.metrics import Accuracy, F1Score\n",
    "from pytorch_widedeep.datasets import load_adult\n",
    "import warnings\n",
    "from torchmetrics import AveragePrecision, AUROC\n",
    "warnings.filterwarnings(\"ignore\", category=ResourceWarning, message=\"unclosed.*<zmq.*>\")"
   ]
  },
  {
   "cell_type": "code",
   "execution_count": 2,
   "metadata": {},
   "outputs": [
    {
     "data": {
      "text/html": [
       "<div>\n",
       "<style scoped>\n",
       "    .dataframe tbody tr th:only-of-type {\n",
       "        vertical-align: middle;\n",
       "    }\n",
       "\n",
       "    .dataframe tbody tr th {\n",
       "        vertical-align: top;\n",
       "    }\n",
       "\n",
       "    .dataframe thead th {\n",
       "        text-align: right;\n",
       "    }\n",
       "</style>\n",
       "<table border=\"1\" class=\"dataframe\">\n",
       "  <thead>\n",
       "    <tr style=\"text-align: right;\">\n",
       "      <th></th>\n",
       "      <th>LIMIT_BAL</th>\n",
       "      <th>SEX</th>\n",
       "      <th>EDUCATION</th>\n",
       "      <th>MARRIAGE</th>\n",
       "      <th>AGE</th>\n",
       "      <th>PAY_0</th>\n",
       "      <th>PAY_2</th>\n",
       "      <th>PAY_3</th>\n",
       "      <th>PAY_4</th>\n",
       "      <th>PAY_5</th>\n",
       "      <th>...</th>\n",
       "      <th>BILL_AMT4</th>\n",
       "      <th>BILL_AMT5</th>\n",
       "      <th>BILL_AMT6</th>\n",
       "      <th>PAY_AMT1</th>\n",
       "      <th>PAY_AMT2</th>\n",
       "      <th>PAY_AMT3</th>\n",
       "      <th>PAY_AMT4</th>\n",
       "      <th>PAY_AMT5</th>\n",
       "      <th>PAY_AMT6</th>\n",
       "      <th>default.payment.next.month</th>\n",
       "    </tr>\n",
       "  </thead>\n",
       "  <tbody>\n",
       "    <tr>\n",
       "      <th>0</th>\n",
       "      <td>-0.134759</td>\n",
       "      <td>0</td>\n",
       "      <td>1</td>\n",
       "      <td>1</td>\n",
       "      <td>-1.029047</td>\n",
       "      <td>2</td>\n",
       "      <td>1</td>\n",
       "      <td>1</td>\n",
       "      <td>1</td>\n",
       "      <td>1</td>\n",
       "      <td>...</td>\n",
       "      <td>-0.428605</td>\n",
       "      <td>-0.369043</td>\n",
       "      <td>-0.239816</td>\n",
       "      <td>0.503316</td>\n",
       "      <td>-0.039980</td>\n",
       "      <td>-0.012818</td>\n",
       "      <td>0.194622</td>\n",
       "      <td>0.536758</td>\n",
       "      <td>-0.180878</td>\n",
       "      <td>0</td>\n",
       "    </tr>\n",
       "    <tr>\n",
       "      <th>1</th>\n",
       "      <td>1.483795</td>\n",
       "      <td>1</td>\n",
       "      <td>0</td>\n",
       "      <td>1</td>\n",
       "      <td>1.357652</td>\n",
       "      <td>2</td>\n",
       "      <td>1</td>\n",
       "      <td>1</td>\n",
       "      <td>1</td>\n",
       "      <td>1</td>\n",
       "      <td>...</td>\n",
       "      <td>0.579916</td>\n",
       "      <td>-0.525994</td>\n",
       "      <td>-0.512933</td>\n",
       "      <td>-0.070252</td>\n",
       "      <td>-0.126784</td>\n",
       "      <td>2.543032</td>\n",
       "      <td>0.228134</td>\n",
       "      <td>0.230763</td>\n",
       "      <td>0.436037</td>\n",
       "      <td>0</td>\n",
       "    </tr>\n",
       "    <tr>\n",
       "      <th>2</th>\n",
       "      <td>-0.674276</td>\n",
       "      <td>1</td>\n",
       "      <td>0</td>\n",
       "      <td>1</td>\n",
       "      <td>-0.378129</td>\n",
       "      <td>0</td>\n",
       "      <td>1</td>\n",
       "      <td>1</td>\n",
       "      <td>1</td>\n",
       "      <td>1</td>\n",
       "      <td>...</td>\n",
       "      <td>0.374450</td>\n",
       "      <td>0.561493</td>\n",
       "      <td>0.571863</td>\n",
       "      <td>-0.160815</td>\n",
       "      <td>-0.083165</td>\n",
       "      <td>-0.154810</td>\n",
       "      <td>0.330267</td>\n",
       "      <td>-0.314136</td>\n",
       "      <td>-0.012122</td>\n",
       "      <td>1</td>\n",
       "    </tr>\n",
       "    <tr>\n",
       "      <th>3</th>\n",
       "      <td>-0.751350</td>\n",
       "      <td>0</td>\n",
       "      <td>2</td>\n",
       "      <td>0</td>\n",
       "      <td>1.249166</td>\n",
       "      <td>2</td>\n",
       "      <td>1</td>\n",
       "      <td>1</td>\n",
       "      <td>1</td>\n",
       "      <td>1</td>\n",
       "      <td>...</td>\n",
       "      <td>0.425778</td>\n",
       "      <td>0.504203</td>\n",
       "      <td>0.545752</td>\n",
       "      <td>-0.148740</td>\n",
       "      <td>-0.109423</td>\n",
       "      <td>-0.132091</td>\n",
       "      <td>-0.132522</td>\n",
       "      <td>-0.107827</td>\n",
       "      <td>-0.141502</td>\n",
       "      <td>0</td>\n",
       "    </tr>\n",
       "    <tr>\n",
       "      <th>4</th>\n",
       "      <td>-0.365981</td>\n",
       "      <td>1</td>\n",
       "      <td>1</td>\n",
       "      <td>1</td>\n",
       "      <td>0.598248</td>\n",
       "      <td>2</td>\n",
       "      <td>1</td>\n",
       "      <td>1</td>\n",
       "      <td>1</td>\n",
       "      <td>1</td>\n",
       "      <td>...</td>\n",
       "      <td>1.126163</td>\n",
       "      <td>1.336657</td>\n",
       "      <td>1.378068</td>\n",
       "      <td>0.020312</td>\n",
       "      <td>-0.061681</td>\n",
       "      <td>-0.041216</td>\n",
       "      <td>0.196217</td>\n",
       "      <td>-0.117776</td>\n",
       "      <td>-0.067081</td>\n",
       "      <td>0</td>\n",
       "    </tr>\n",
       "  </tbody>\n",
       "</table>\n",
       "<p>5 rows × 24 columns</p>\n",
       "</div>"
      ],
      "text/plain": [
       "   LIMIT_BAL  SEX  EDUCATION  MARRIAGE       AGE  PAY_0  PAY_2  PAY_3  PAY_4  \\\n",
       "0  -0.134759    0          1         1 -1.029047      2      1      1      1   \n",
       "1   1.483795    1          0         1  1.357652      2      1      1      1   \n",
       "2  -0.674276    1          0         1 -0.378129      0      1      1      1   \n",
       "3  -0.751350    0          2         0  1.249166      2      1      1      1   \n",
       "4  -0.365981    1          1         1  0.598248      2      1      1      1   \n",
       "\n",
       "   PAY_5  ...  BILL_AMT4  BILL_AMT5  BILL_AMT6  PAY_AMT1  PAY_AMT2  PAY_AMT3  \\\n",
       "0      1  ...  -0.428605  -0.369043  -0.239816  0.503316 -0.039980 -0.012818   \n",
       "1      1  ...   0.579916  -0.525994  -0.512933 -0.070252 -0.126784  2.543032   \n",
       "2      1  ...   0.374450   0.561493   0.571863 -0.160815 -0.083165 -0.154810   \n",
       "3      1  ...   0.425778   0.504203   0.545752 -0.148740 -0.109423 -0.132091   \n",
       "4      1  ...   1.126163   1.336657   1.378068  0.020312 -0.061681 -0.041216   \n",
       "\n",
       "   PAY_AMT4  PAY_AMT5  PAY_AMT6  default.payment.next.month  \n",
       "0  0.194622  0.536758 -0.180878                           0  \n",
       "1  0.228134  0.230763  0.436037                           0  \n",
       "2  0.330267 -0.314136 -0.012122                           1  \n",
       "3 -0.132522 -0.107827 -0.141502                           0  \n",
       "4  0.196217 -0.117776 -0.067081                           0  \n",
       "\n",
       "[5 rows x 24 columns]"
      ]
     },
     "execution_count": 2,
     "metadata": {},
     "output_type": "execute_result"
    }
   ],
   "source": [
    "lukup = {'defaultCredit':'default.payment.next.month', 'bank':'y'}\n",
    "name = 'defaultCredit'\n",
    "label = lukup[name]\n",
    "fold = 1\n",
    "train_df = pd.read_csv('/home/vineeth/Documents/GitWorkSpace/PytorchRecipes/SimpleMLP/Dataset/{}/fold{}/train/data.csv'.format(name, fold))\n",
    "valid_df = pd.read_csv('/home/vineeth/Documents/GitWorkSpace/PytorchRecipes/SimpleMLP/Dataset/{}/fold{}/valid/data.csv'.format(name, fold))\n",
    "test_df = pd.read_csv('/home/vineeth/Documents/GitWorkSpace/PytorchRecipes/SimpleMLP/Dataset/{}/fold{}/test/data.csv'.format(name, fold))\n",
    "train_df.head()"
   ]
  },
  {
   "cell_type": "code",
   "execution_count": 3,
   "metadata": {},
   "outputs": [],
   "source": [
    "# Define the 'column set up'\n",
    "wide_cols = [\n",
    "    \"SEX\",\n",
    "    \"EDUCATION\",\n",
    "    \"MARRIAGE\",\n",
    "    \"PAY_0\",\n",
    "    \"PAY_2\",\n",
    "    \"PAY_3\",\n",
    "    \"PAY_4\",\n",
    "    \"PAY_5\",\n",
    "    \"PAY_6\"\n",
    "]\n",
    "\n",
    "cat_embed_cols = [\n",
    "    \"SEX\",\n",
    "    \"EDUCATION\",\n",
    "    \"MARRIAGE\",\n",
    "    \"PAY_0\",\n",
    "    \"PAY_2\",\n",
    "    \"PAY_3\",\n",
    "    \"PAY_4\",\n",
    "    \"PAY_5\",\n",
    "    \"PAY_6\"\n",
    "]\n",
    "continuous_cols = [\"LIMIT_BAL\", \"BILL_AMT1\", \"BILL_AMT1\", \"BILL_AMT2\", \\\n",
    "     \"BILL_AMT3\", \"BILL_AMT4\", \"BILL_AMT5\", \"BILL_AMT6\", 'PAY_AMT1', 'PAY_AMT1',\\\n",
    "        'PAY_AMT2', 'PAY_AMT3', 'PAY_AMT4', 'PAY_AMT5', 'PAY_AMT6']\n",
    "target = \"default.payment.next.month\"\n",
    "target = train_df[target].values"
   ]
  },
  {
   "cell_type": "code",
   "execution_count": 4,
   "metadata": {},
   "outputs": [],
   "source": [
    "# prepare the data\n",
    "wide_preprocessor = WidePreprocessor(wide_cols=wide_cols)\n",
    "X_wide = wide_preprocessor.fit_transform(train_df)\n",
    "\n",
    "tab_preprocessor = TabPreprocessor(\n",
    "    cat_embed_cols=cat_embed_cols, continuous_cols=continuous_cols  # type: ignore[arg-type]\n",
    ")\n",
    "X_tab = tab_preprocessor.fit_transform(train_df)"
   ]
  },
  {
   "cell_type": "code",
   "execution_count": 5,
   "metadata": {},
   "outputs": [],
   "source": [
    "# build the model\n",
    "wide = Wide(input_dim=np.unique(X_wide).shape[0], pred_dim=1)\n",
    "tab_mlp = TabMlp(\n",
    "    column_idx=tab_preprocessor.column_idx,\n",
    "    cat_embed_input=tab_preprocessor.cat_embed_input,\n",
    "    continuous_cols=continuous_cols,\n",
    "    mlp_hidden_dims=[400, 200],\n",
    "    mlp_dropout=0.5,\n",
    "    mlp_activation=\"leaky_relu\"\n",
    ")\n",
    "model = WideDeep(wide=wide, deeptabular=tab_mlp)"
   ]
  },
  {
   "cell_type": "code",
   "execution_count": 6,
   "metadata": {
    "collapsed": true,
    "jupyter": {
     "outputs_hidden": true
    },
    "tags": []
   },
   "outputs": [
    {
     "name": "stderr",
     "output_type": "stream",
     "text": [
      "epoch 1: 100%|███████████████████████████████████████████████████| 85/85 [00:01<00:00, 54.94it/s, loss=0.528, metrics={'BinaryAUROC': 0.6647, 'f1': 0.3431, 'BinaryAveragePrecision': 0.3797}]\n",
      "epoch 2: 100%|█████████████████████████████████████████████████████| 85/85 [00:01<00:00, 76.10it/s, loss=0.47, metrics={'BinaryAUROC': 0.7231, 'f1': 0.3803, 'BinaryAveragePrecision': 0.468}]\n",
      "epoch 3: 100%|███████████████████████████████████████████████████| 85/85 [00:01<00:00, 79.25it/s, loss=0.458, metrics={'BinaryAUROC': 0.7406, 'f1': 0.4051, 'BinaryAveragePrecision': 0.4924}]\n",
      "epoch 4: 100%|███████████████████████████████████████████████████| 85/85 [00:01<00:00, 75.90it/s, loss=0.455, metrics={'BinaryAUROC': 0.7428, 'f1': 0.4227, 'BinaryAveragePrecision': 0.5023}]\n",
      "epoch 5: 100%|████████████████████████████████████████████████████| 85/85 [00:01<00:00, 75.46it/s, loss=0.45, metrics={'BinaryAUROC': 0.7481, 'f1': 0.4256, 'BinaryAveragePrecision': 0.5125}]\n",
      "epoch 6: 100%|███████████████████████████████████████████████████| 85/85 [00:01<00:00, 75.81it/s, loss=0.446, metrics={'BinaryAUROC': 0.7562, 'f1': 0.4442, 'BinaryAveragePrecision': 0.5197}]\n",
      "epoch 7: 100%|███████████████████████████████████████████████████| 85/85 [00:01<00:00, 76.53it/s, loss=0.443, metrics={'BinaryAUROC': 0.7584, 'f1': 0.4487, 'BinaryAveragePrecision': 0.5287}]\n",
      "epoch 8: 100%|███████████████████████████████████████████████████| 85/85 [00:01<00:00, 76.58it/s, loss=0.441, metrics={'BinaryAUROC': 0.7622, 'f1': 0.4519, 'BinaryAveragePrecision': 0.5328}]\n",
      "epoch 9: 100%|███████████████████████████████████████████████████| 85/85 [00:01<00:00, 77.45it/s, loss=0.438, metrics={'BinaryAUROC': 0.7662, 'f1': 0.4608, 'BinaryAveragePrecision': 0.5324}]\n",
      "epoch 10: 100%|██████████████████████████████████████████████████| 85/85 [00:01<00:00, 72.22it/s, loss=0.438, metrics={'BinaryAUROC': 0.7655, 'f1': 0.4665, 'BinaryAveragePrecision': 0.5361}]\n",
      "epoch 11: 100%|██████████████████████████████████████████████████| 85/85 [00:01<00:00, 76.89it/s, loss=0.436, metrics={'BinaryAUROC': 0.7674, 'f1': 0.4669, 'BinaryAveragePrecision': 0.5394}]\n",
      "epoch 12: 100%|██████████████████████████████████████████████████| 85/85 [00:01<00:00, 76.53it/s, loss=0.433, metrics={'BinaryAUROC': 0.7719, 'f1': 0.4682, 'BinaryAveragePrecision': 0.5471}]\n",
      "epoch 13: 100%|██████████████████████████████████████████████████| 85/85 [00:01<00:00, 78.80it/s, loss=0.433, metrics={'BinaryAUROC': 0.7737, 'f1': 0.4603, 'BinaryAveragePrecision': 0.5442}]\n",
      "epoch 14: 100%|██████████████████████████████████████████████████| 85/85 [00:01<00:00, 76.97it/s, loss=0.431, metrics={'BinaryAUROC': 0.7761, 'f1': 0.4723, 'BinaryAveragePrecision': 0.5517}]\n",
      "epoch 15: 100%|██████████████████████████████████████████████████| 85/85 [00:01<00:00, 76.30it/s, loss=0.431, metrics={'BinaryAUROC': 0.7758, 'f1': 0.4719, 'BinaryAveragePrecision': 0.5489}]\n",
      "epoch 16: 100%|██████████████████████████████████████████████████| 85/85 [00:01<00:00, 77.07it/s, loss=0.429, metrics={'BinaryAUROC': 0.7781, 'f1': 0.4709, 'BinaryAveragePrecision': 0.5545}]\n",
      "epoch 17: 100%|███████████████████████████████████████████████████| 85/85 [00:01<00:00, 76.05it/s, loss=0.429, metrics={'BinaryAUROC': 0.7768, 'f1': 0.4723, 'BinaryAveragePrecision': 0.555}]\n",
      "epoch 18: 100%|██████████████████████████████████████████████████| 85/85 [00:01<00:00, 76.56it/s, loss=0.427, metrics={'BinaryAUROC': 0.7817, 'f1': 0.4733, 'BinaryAveragePrecision': 0.5591}]\n",
      "epoch 19: 100%|██████████████████████████████████████████████████| 85/85 [00:01<00:00, 77.62it/s, loss=0.429, metrics={'BinaryAUROC': 0.7765, 'f1': 0.4714, 'BinaryAveragePrecision': 0.5557}]\n",
      "epoch 20: 100%|███████████████████████████████████████████████████| 85/85 [00:01<00:00, 75.91it/s, loss=0.425, metrics={'BinaryAUROC': 0.784, 'f1': 0.4741, 'BinaryAveragePrecision': 0.5626}]\n",
      "epoch 21: 100%|██████████████████████████████████████████████████| 85/85 [00:01<00:00, 77.48it/s, loss=0.426, metrics={'BinaryAUROC': 0.7814, 'f1': 0.4757, 'BinaryAveragePrecision': 0.5635}]\n",
      "epoch 22: 100%|██████████████████████████████████████████████████| 85/85 [00:01<00:00, 76.10it/s, loss=0.426, metrics={'BinaryAUROC': 0.7832, 'f1': 0.4759, 'BinaryAveragePrecision': 0.5612}]\n",
      "epoch 23: 100%|███████████████████████████████████████████████████| 85/85 [00:01<00:00, 75.87it/s, loss=0.425, metrics={'BinaryAUROC': 0.7822, 'f1': 0.481, 'BinaryAveragePrecision': 0.5657}]\n",
      "epoch 24: 100%|██████████████████████████████████████████████████| 85/85 [00:01<00:00, 77.01it/s, loss=0.424, metrics={'BinaryAUROC': 0.7833, 'f1': 0.4782, 'BinaryAveragePrecision': 0.5671}]\n",
      "epoch 25: 100%|██████████████████████████████████████████████████| 85/85 [00:01<00:00, 76.65it/s, loss=0.424, metrics={'BinaryAUROC': 0.7847, 'f1': 0.4762, 'BinaryAveragePrecision': 0.5665}]\n",
      "epoch 26: 100%|██████████████████████████████████████████████████| 85/85 [00:01<00:00, 74.85it/s, loss=0.423, metrics={'BinaryAUROC': 0.7859, 'f1': 0.4782, 'BinaryAveragePrecision': 0.5716}]\n",
      "epoch 27: 100%|███████████████████████████████████████████████████| 85/85 [00:01<00:00, 77.86it/s, loss=0.42, metrics={'BinaryAUROC': 0.7907, 'f1': 0.4826, 'BinaryAveragePrecision': 0.5749}]\n",
      "epoch 28: 100%|██████████████████████████████████████████████████| 85/85 [00:01<00:00, 76.41it/s, loss=0.421, metrics={'BinaryAUROC': 0.7877, 'f1': 0.4815, 'BinaryAveragePrecision': 0.5728}]\n",
      "epoch 29: 100%|████████████████████████████████████████████████████| 85/85 [00:01<00:00, 74.87it/s, loss=0.42, metrics={'BinaryAUROC': 0.791, 'f1': 0.4864, 'BinaryAveragePrecision': 0.5754}]\n",
      "epoch 30: 100%|██████████████████████████████████████████████████| 85/85 [00:01<00:00, 76.13it/s, loss=0.421, metrics={'BinaryAUROC': 0.7888, 'f1': 0.4842, 'BinaryAveragePrecision': 0.5729}]\n",
      "epoch 31: 100%|███████████████████████████████████████████████████| 85/85 [00:01<00:00, 76.50it/s, loss=0.42, metrics={'BinaryAUROC': 0.7908, 'f1': 0.4815, 'BinaryAveragePrecision': 0.5763}]\n",
      "epoch 32: 100%|███████████████████████████████████████████████████| 85/85 [00:01<00:00, 74.24it/s, loss=0.419, metrics={'BinaryAUROC': 0.7909, 'f1': 0.4864, 'BinaryAveragePrecision': 0.576}]\n",
      "epoch 33: 100%|██████████████████████████████████████████████████| 85/85 [00:01<00:00, 76.49it/s, loss=0.418, metrics={'BinaryAUROC': 0.7934, 'f1': 0.4855, 'BinaryAveragePrecision': 0.5783}]\n",
      "epoch 34: 100%|██████████████████████████████████████████████████| 85/85 [00:01<00:00, 75.29it/s, loss=0.419, metrics={'BinaryAUROC': 0.7893, 'f1': 0.4865, 'BinaryAveragePrecision': 0.5773}]\n",
      "epoch 35: 100%|██████████████████████████████████████████████████| 85/85 [00:01<00:00, 76.31it/s, loss=0.418, metrics={'BinaryAUROC': 0.7926, 'f1': 0.4847, 'BinaryAveragePrecision': 0.5798}]\n",
      "epoch 36: 100%|██████████████████████████████████████████████████| 85/85 [00:01<00:00, 74.25it/s, loss=0.417, metrics={'BinaryAUROC': 0.7947, 'f1': 0.4873, 'BinaryAveragePrecision': 0.5817}]\n",
      "epoch 37: 100%|████████████████████████████████████████████████████| 85/85 [00:01<00:00, 75.86it/s, loss=0.416, metrics={'BinaryAUROC': 0.7944, 'f1': 0.49, 'BinaryAveragePrecision': 0.5838}]\n",
      "epoch 38: 100%|████████████████████████████████████████████████████| 85/85 [00:01<00:00, 79.79it/s, loss=0.416, metrics={'BinaryAUROC': 0.796, 'f1': 0.4903, 'BinaryAveragePrecision': 0.584}]\n",
      "epoch 39: 100%|██████████████████████████████████████████████████| 85/85 [00:01<00:00, 75.90it/s, loss=0.415, metrics={'BinaryAUROC': 0.7956, 'f1': 0.4951, 'BinaryAveragePrecision': 0.5852}]\n",
      "epoch 40: 100%|████████████████████████████████████████████████████| 85/85 [00:01<00:00, 75.76it/s, loss=0.415, metrics={'BinaryAUROC': 0.797, 'f1': 0.4908, 'BinaryAveragePrecision': 0.584}]\n",
      "epoch 41: 100%|██████████████████████████████████████████████████| 85/85 [00:01<00:00, 75.85it/s, loss=0.413, metrics={'BinaryAUROC': 0.7964, 'f1': 0.4933, 'BinaryAveragePrecision': 0.5911}]\n",
      "epoch 42: 100%|████████████████████████████████████████████████████| 85/85 [00:01<00:00, 76.49it/s, loss=0.414, metrics={'BinaryAUROC': 0.797, 'f1': 0.492, 'BinaryAveragePrecision': 0.5907}]\n",
      "epoch 43: 100%|██████████████████████████████████████████████████| 85/85 [00:01<00:00, 76.85it/s, loss=0.414, metrics={'BinaryAUROC': 0.7979, 'f1': 0.4909, 'BinaryAveragePrecision': 0.5889}]\n",
      "epoch 44: 100%|██████████████████████████████████████████████████| 85/85 [00:01<00:00, 74.61it/s, loss=0.414, metrics={'BinaryAUROC': 0.7966, 'f1': 0.4925, 'BinaryAveragePrecision': 0.5857}]\n",
      "epoch 45: 100%|██████████████████████████████████████████████████| 85/85 [00:01<00:00, 74.61it/s, loss=0.412, metrics={'BinaryAUROC': 0.7978, 'f1': 0.4962, 'BinaryAveragePrecision': 0.5899}]\n",
      "epoch 46: 100%|████████████████████████████████████████████████████| 85/85 [00:01<00:00, 77.05it/s, loss=0.41, metrics={'BinaryAUROC': 0.8007, 'f1': 0.4972, 'BinaryAveragePrecision': 0.598}]\n",
      "epoch 47: 100%|███████████████████████████████████████████████████| 85/85 [00:01<00:00, 74.08it/s, loss=0.41, metrics={'BinaryAUROC': 0.8024, 'f1': 0.4957, 'BinaryAveragePrecision': 0.5952}]\n",
      "epoch 48: 100%|███████████████████████████████████████████████████| 85/85 [00:01<00:00, 76.20it/s, loss=0.41, metrics={'BinaryAUROC': 0.8018, 'f1': 0.5007, 'BinaryAveragePrecision': 0.5944}]\n",
      "epoch 49: 100%|███████████████████████████████████████████████████| 85/85 [00:01<00:00, 75.30it/s, loss=0.41, metrics={'BinaryAUROC': 0.8024, 'f1': 0.4971, 'BinaryAveragePrecision': 0.5942}]\n",
      "epoch 50: 100%|███████████████████████████████████████████████████| 85/85 [00:01<00:00, 74.93it/s, loss=0.41, metrics={'BinaryAUROC': 0.8015, 'f1': 0.4965, 'BinaryAveragePrecision': 0.5972}]\n",
      "epoch 51: 100%|██████████████████████████████████████████████████| 85/85 [00:01<00:00, 77.27it/s, loss=0.409, metrics={'BinaryAUROC': 0.8032, 'f1': 0.4972, 'BinaryAveragePrecision': 0.5975}]\n",
      "epoch 52: 100%|██████████████████████████████████████████████████| 85/85 [00:01<00:00, 74.37it/s, loss=0.409, metrics={'BinaryAUROC': 0.8028, 'f1': 0.5084, 'BinaryAveragePrecision': 0.6001}]\n",
      "epoch 53: 100%|███████████████████████████████████████████████████| 85/85 [00:01<00:00, 73.19it/s, loss=0.41, metrics={'BinaryAUROC': 0.8026, 'f1': 0.4996, 'BinaryAveragePrecision': 0.5972}]\n",
      "epoch 54: 100%|██████████████████████████████████████████████████| 85/85 [00:01<00:00, 74.21it/s, loss=0.407, metrics={'BinaryAUROC': 0.8066, 'f1': 0.5065, 'BinaryAveragePrecision': 0.6043}]\n",
      "epoch 55: 100%|██████████████████████████████████████████████████| 85/85 [00:01<00:00, 74.29it/s, loss=0.407, metrics={'BinaryAUROC': 0.8059, 'f1': 0.5074, 'BinaryAveragePrecision': 0.6017}]\n",
      "epoch 56: 100%|██████████████████████████████████████████████████| 85/85 [00:01<00:00, 72.79it/s, loss=0.405, metrics={'BinaryAUROC': 0.8072, 'f1': 0.5072, 'BinaryAveragePrecision': 0.6055}]\n",
      "epoch 57: 100%|███████████████████████████████████████████████████| 85/85 [00:01<00:00, 76.48it/s, loss=0.406, metrics={'BinaryAUROC': 0.8064, 'f1': 0.5033, 'BinaryAveragePrecision': 0.604}]\n",
      "epoch 58: 100%|███████████████████████████████████████████████████| 85/85 [00:01<00:00, 75.18it/s, loss=0.404, metrics={'BinaryAUROC': 0.8081, 'f1': 0.509, 'BinaryAveragePrecision': 0.6108}]\n",
      "epoch 59: 100%|████████████████████████████████████████████████████| 85/85 [00:01<00:00, 74.10it/s, loss=0.404, metrics={'BinaryAUROC': 0.808, 'f1': 0.514, 'BinaryAveragePrecision': 0.6086}]\n",
      "epoch 60: 100%|██████████████████████████████████████████████████| 85/85 [00:01<00:00, 75.58it/s, loss=0.405, metrics={'BinaryAUROC': 0.8083, 'f1': 0.5046, 'BinaryAveragePrecision': 0.6039}]\n",
      "epoch 61: 100%|███████████████████████████████████████████████████| 85/85 [00:01<00:00, 74.38it/s, loss=0.403, metrics={'BinaryAUROC': 0.8096, 'f1': 0.514, 'BinaryAveragePrecision': 0.6123}]\n",
      "epoch 62: 100%|████████████████████████████████████████████████████| 85/85 [00:01<00:00, 74.09it/s, loss=0.402, metrics={'BinaryAUROC': 0.81, 'f1': 0.5137, 'BinaryAveragePrecision': 0.6148}]\n",
      "epoch 63: 100%|███████████████████████████████████████████████████| 85/85 [00:01<00:00, 73.93it/s, loss=0.403, metrics={'BinaryAUROC': 0.8096, 'f1': 0.5115, 'BinaryAveragePrecision': 0.613}]\n",
      "epoch 64: 100%|██████████████████████████████████████████████████| 85/85 [00:01<00:00, 73.38it/s, loss=0.401, metrics={'BinaryAUROC': 0.8126, 'f1': 0.5145, 'BinaryAveragePrecision': 0.6122}]\n",
      "epoch 65: 100%|██████████████████████████████████████████████████| 85/85 [00:01<00:00, 76.21it/s, loss=0.399, metrics={'BinaryAUROC': 0.8124, 'f1': 0.5157, 'BinaryAveragePrecision': 0.6187}]\n",
      "epoch 66: 100%|██████████████████████████████████████████████████| 85/85 [00:01<00:00, 79.31it/s, loss=0.401, metrics={'BinaryAUROC': 0.8103, 'f1': 0.5138, 'BinaryAveragePrecision': 0.6184}]\n",
      "epoch 67: 100%|████████████████████████████████████████████████████| 85/85 [00:01<00:00, 79.24it/s, loss=0.4, metrics={'BinaryAUROC': 0.8128, 'f1': 0.5109, 'BinaryAveragePrecision': 0.6191}]\n",
      "epoch 68: 100%|███████████████████████████████████████████████████| 85/85 [00:01<00:00, 78.93it/s, loss=0.399, metrics={'BinaryAUROC': 0.8129, 'f1': 0.518, 'BinaryAveragePrecision': 0.6185}]\n",
      "epoch 69: 100%|███████████████████████████████████████████████████| 85/85 [00:01<00:00, 78.44it/s, loss=0.398, metrics={'BinaryAUROC': 0.8166, 'f1': 0.5207, 'BinaryAveragePrecision': 0.619}]\n",
      "epoch 70: 100%|██████████████████████████████████████████████████| 85/85 [00:01<00:00, 79.40it/s, loss=0.399, metrics={'BinaryAUROC': 0.8151, 'f1': 0.5166, 'BinaryAveragePrecision': 0.6176}]\n",
      "epoch 71: 100%|████████████████████████████████████████████████████| 85/85 [00:01<00:00, 78.51it/s, loss=0.398, metrics={'BinaryAUROC': 0.814, 'f1': 0.522, 'BinaryAveragePrecision': 0.6226}]\n",
      "epoch 72: 100%|███████████████████████████████████████████████████| 85/85 [00:01<00:00, 75.88it/s, loss=0.397, metrics={'BinaryAUROC': 0.8148, 'f1': 0.521, 'BinaryAveragePrecision': 0.6245}]\n",
      "epoch 73: 100%|██████████████████████████████████████████████████| 85/85 [00:01<00:00, 79.01it/s, loss=0.396, metrics={'BinaryAUROC': 0.8177, 'f1': 0.5177, 'BinaryAveragePrecision': 0.6242}]\n",
      "epoch 74: 100%|██████████████████████████████████████████████████| 85/85 [00:01<00:00, 79.83it/s, loss=0.395, metrics={'BinaryAUROC': 0.8186, 'f1': 0.5263, 'BinaryAveragePrecision': 0.6251}]\n",
      "epoch 75: 100%|███████████████████████████████████████████████████| 85/85 [00:01<00:00, 77.26it/s, loss=0.396, metrics={'BinaryAUROC': 0.8173, 'f1': 0.5257, 'BinaryAveragePrecision': 0.628}]\n",
      "epoch 76: 100%|██████████████████████████████████████████████████| 85/85 [00:01<00:00, 77.21it/s, loss=0.394, metrics={'BinaryAUROC': 0.8212, 'f1': 0.5216, 'BinaryAveragePrecision': 0.6295}]\n",
      "epoch 77: 100%|███████████████████████████████████████████████████| 85/85 [00:01<00:00, 77.33it/s, loss=0.396, metrics={'BinaryAUROC': 0.8154, 'f1': 0.5211, 'BinaryAveragePrecision': 0.625}]\n",
      "epoch 78: 100%|██████████████████████████████████████████████████| 85/85 [00:01<00:00, 79.92it/s, loss=0.392, metrics={'BinaryAUROC': 0.8216, 'f1': 0.5327, 'BinaryAveragePrecision': 0.6308}]\n",
      "epoch 79: 100%|██████████████████████████████████████████████████| 85/85 [00:01<00:00, 79.07it/s, loss=0.395, metrics={'BinaryAUROC': 0.8181, 'f1': 0.5238, 'BinaryAveragePrecision': 0.6281}]\n",
      "epoch 80: 100%|██████████████████████████████████████████████████| 85/85 [00:01<00:00, 75.91it/s, loss=0.392, metrics={'BinaryAUROC': 0.8221, 'f1': 0.5307, 'BinaryAveragePrecision': 0.6333}]\n",
      "epoch 81: 100%|██████████████████████████████████████████████████| 85/85 [00:01<00:00, 77.81it/s, loss=0.393, metrics={'BinaryAUROC': 0.8209, 'f1': 0.5257, 'BinaryAveragePrecision': 0.6329}]\n",
      "epoch 82: 100%|██████████████████████████████████████████████████| 85/85 [00:01<00:00, 77.37it/s, loss=0.391, metrics={'BinaryAUROC': 0.8234, 'f1': 0.5288, 'BinaryAveragePrecision': 0.6346}]\n",
      "epoch 83: 100%|██████████████████████████████████████████████████| 85/85 [00:01<00:00, 76.65it/s, loss=0.391, metrics={'BinaryAUROC': 0.8222, 'f1': 0.5305, 'BinaryAveragePrecision': 0.6361}]\n",
      "epoch 84: 100%|██████████████████████████████████████████████████| 85/85 [00:01<00:00, 76.14it/s, loss=0.392, metrics={'BinaryAUROC': 0.8215, 'f1': 0.5294, 'BinaryAveragePrecision': 0.6335}]\n",
      "epoch 85: 100%|██████████████████████████████████████████████████| 85/85 [00:01<00:00, 77.88it/s, loss=0.393, metrics={'BinaryAUROC': 0.8204, 'f1': 0.5233, 'BinaryAveragePrecision': 0.6315}]\n",
      "epoch 86: 100%|██████████████████████████████████████████████████| 85/85 [00:01<00:00, 78.80it/s, loss=0.387, metrics={'BinaryAUROC': 0.8283, 'f1': 0.5355, 'BinaryAveragePrecision': 0.6403}]\n",
      "epoch 87: 100%|███████████████████████████████████████████████████| 85/85 [00:01<00:00, 79.53it/s, loss=0.387, metrics={'BinaryAUROC': 0.826, 'f1': 0.5375, 'BinaryAveragePrecision': 0.6454}]\n",
      "epoch 88: 100%|███████████████████████████████████████████████████| 85/85 [00:01<00:00, 76.68it/s, loss=0.388, metrics={'BinaryAUROC': 0.826, 'f1': 0.5388, 'BinaryAveragePrecision': 0.6427}]\n",
      "epoch 89: 100%|██████████████████████████████████████████████████| 85/85 [00:01<00:00, 76.05it/s, loss=0.392, metrics={'BinaryAUROC': 0.8201, 'f1': 0.5306, 'BinaryAveragePrecision': 0.6361}]\n",
      "epoch 90: 100%|████████████████████████████████████████████████████| 85/85 [00:01<00:00, 77.63it/s, loss=0.387, metrics={'BinaryAUROC': 0.827, 'f1': 0.537, 'BinaryAveragePrecision': 0.6404}]\n",
      "epoch 91: 100%|████████████████████████████████████████████████████| 85/85 [00:01<00:00, 78.17it/s, loss=0.388, metrics={'BinaryAUROC': 0.8263, 'f1': 0.536, 'BinaryAveragePrecision': 0.641}]\n",
      "epoch 92: 100%|██████████████████████████████████████████████████| 85/85 [00:01<00:00, 77.85it/s, loss=0.386, metrics={'BinaryAUROC': 0.8278, 'f1': 0.5361, 'BinaryAveragePrecision': 0.6438}]\n",
      "epoch 93: 100%|███████████████████████████████████████████████████| 85/85 [00:01<00:00, 75.56it/s, loss=0.39, metrics={'BinaryAUROC': 0.8241, 'f1': 0.5318, 'BinaryAveragePrecision': 0.6374}]\n",
      "epoch 94: 100%|██████████████████████████████████████████████████| 85/85 [00:01<00:00, 76.91it/s, loss=0.386, metrics={'BinaryAUROC': 0.8277, 'f1': 0.5413, 'BinaryAveragePrecision': 0.6448}]\n",
      "epoch 95: 100%|██████████████████████████████████████████████████| 85/85 [00:01<00:00, 73.79it/s, loss=0.385, metrics={'BinaryAUROC': 0.8299, 'f1': 0.5371, 'BinaryAveragePrecision': 0.6471}]\n",
      "epoch 96: 100%|██████████████████████████████████████████████████| 85/85 [00:01<00:00, 77.90it/s, loss=0.386, metrics={'BinaryAUROC': 0.8271, 'f1': 0.5406, 'BinaryAveragePrecision': 0.6446}]\n",
      "epoch 97: 100%|██████████████████████████████████████████████████| 85/85 [00:01<00:00, 77.00it/s, loss=0.384, metrics={'BinaryAUROC': 0.8299, 'f1': 0.5425, 'BinaryAveragePrecision': 0.6497}]\n",
      "epoch 98: 100%|██████████████████████████████████████████████████| 85/85 [00:01<00:00, 75.36it/s, loss=0.384, metrics={'BinaryAUROC': 0.8306, 'f1': 0.5411, 'BinaryAveragePrecision': 0.6469}]\n",
      "epoch 99: 100%|██████████████████████████████████████████████████| 85/85 [00:01<00:00, 74.32it/s, loss=0.382, metrics={'BinaryAUROC': 0.8307, 'f1': 0.5439, 'BinaryAveragePrecision': 0.6519}]\n",
      "epoch 100: 100%|█████████████████████████████████████████████████| 85/85 [00:01<00:00, 75.47it/s, loss=0.384, metrics={'BinaryAUROC': 0.8298, 'f1': 0.5503, 'BinaryAveragePrecision': 0.6503}]\n"
     ]
    }
   ],
   "source": [
    "# train and validate\n",
    "trainer = Trainer(model, objective=\"binary\", metrics=[AUROC(task='binary'), F1Score, AveragePrecision(task='binary')])\n",
    "trainer.fit(\n",
    "    X_wide=X_wide,\n",
    "    X_tab=X_tab,\n",
    "    target=target,\n",
    "    n_epochs=100,\n",
    "    batch_size=256,\n",
    ")"
   ]
  },
  {
   "cell_type": "code",
   "execution_count": 7,
   "metadata": {
    "tags": []
   },
   "outputs": [
    {
     "name": "stderr",
     "output_type": "stream",
     "text": [
      "predict: 100%|████████████████████████████████████████████████████████████████████████████████████████████████████████████████████████████████████████████████| 24/24 [00:00<00:00, 39.26it/s]\n"
     ]
    }
   ],
   "source": [
    "# predict on test\n",
    "X_wide_te = wide_preprocessor.transform(test_df)\n",
    "X_tab_te = tab_preprocessor.transform(test_df)\n",
    "preds = trainer.predict(X_wide=X_wide_te, X_tab=X_tab_te)"
   ]
  },
  {
   "cell_type": "code",
   "execution_count": 8,
   "metadata": {
    "tags": []
   },
   "outputs": [
    {
     "name": "stderr",
     "output_type": "stream",
     "text": [
      "predict: 100%|████████████████████████████████████████████████████████████████████████████████████████████████████████████████████████████████████████████████| 24/24 [00:00<00:00, 40.85it/s]\n"
     ]
    }
   ],
   "source": [
    "pred_probs = trainer.predict_proba(X_wide=X_wide_te, X_tab=X_tab_te)"
   ]
  },
  {
   "cell_type": "code",
   "execution_count": 9,
   "metadata": {},
   "outputs": [
    {
     "name": "stdout",
     "output_type": "stream",
     "text": [
      "ROC-AUC:0.7599003822481956\n",
      "PrecisionRecall-AUC:0.5211694191896986\n"
     ]
    }
   ],
   "source": [
    "from sklearn.metrics import average_precision_score, roc_auc_score\n",
    "target = lukup[name]\n",
    "y = test_df[target].values\n",
    "print(\"ROC-AUC:{}\".format(roc_auc_score(y, pred_probs[:, 1])))\n",
    "print(\"PrecisionRecall-AUC:{}\".format(average_precision_score(y, pred_probs[:, 1])))"
   ]
  },
  {
   "cell_type": "code",
   "execution_count": 24,
   "metadata": {},
   "outputs": [],
   "source": [
    "from pytorch_widedeep import Tab2Vec\n",
    "t2v = Tab2Vec(model=model, tab_preprocessor=tab_preprocessor)\n",
    "X_vec, y = t2v.transform(train_df, target_col=target)"
   ]
  },
  {
   "cell_type": "code",
   "execution_count": 27,
   "metadata": {},
   "outputs": [
    {
     "data": {
      "text/plain": [
       "array([[-0.4756467 , -0.02291009,  0.56716114, ...,  0.21514589,\n",
       "         0.54453516, -0.16239928],\n",
       "       [ 0.17567964, -0.4121741 , -0.30569577, ...,  0.24836496,\n",
       "         0.2460111 ,  0.47163504],\n",
       "       [ 0.17567964, -0.4121741 , -0.30569577, ...,  0.34960404,\n",
       "        -0.28558525,  0.01103947],\n",
       "       ...,\n",
       "       [-0.4756467 , -0.02291009, -0.30569577, ..., -0.22049856,\n",
       "        -0.22402865, -0.22165753],\n",
       "       [ 0.17567964, -0.4121741 ,  0.56716114, ..., -0.15659139,\n",
       "        -0.15787444, -0.16239928],\n",
       "       [ 0.17567964, -0.4121741 , -0.        , ..., -0.2325207 ,\n",
       "        -0.22172983, -0.2317748 ]], dtype=float32)"
      ]
     },
     "execution_count": 27,
     "metadata": {},
     "output_type": "execute_result"
    }
   ],
   "source": [
    "X_vec"
   ]
  }
 ],
 "metadata": {
  "kernelspec": {
   "display_name": "pytorch_03_2023",
   "language": "python",
   "name": "pytorch_03_2023"
  },
  "language_info": {
   "codemirror_mode": {
    "name": "ipython",
    "version": 3
   },
   "file_extension": ".py",
   "mimetype": "text/x-python",
   "name": "python",
   "nbconvert_exporter": "python",
   "pygments_lexer": "ipython3",
   "version": "3.10.9"
  },
  "vscode": {
   "interpreter": {
    "hash": "f52ae8a1ae1901b741cf35729be1f81cc1eb44818db4edc8e02098ff6938d29c"
   }
  }
 },
 "nbformat": 4,
 "nbformat_minor": 4
}
