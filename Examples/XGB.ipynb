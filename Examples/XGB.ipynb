{
 "cells": [
  {
   "cell_type": "code",
   "execution_count": 29,
   "metadata": {},
   "outputs": [],
   "source": [
    "import pandas as pd \n",
    "import numpy as np\n",
    "import matplotlib\n",
    "import matplotlib.pyplot as plt\n",
    "import seaborn as sns\n",
    "%matplotlib inline \n",
    "\n",
    "import gc\n",
    "from datetime import datetime \n",
    "from sklearn.model_selection import train_test_split\n",
    "from sklearn.model_selection import KFold\n",
    "from sklearn.metrics import roc_auc_score\n",
    "import lightgbm as lgb\n",
    "import xgboost as xgb\n",
    "\n",
    "pd.set_option('display.max_columns', 100)"
   ]
  },
  {
   "cell_type": "code",
   "execution_count": 30,
   "metadata": {},
   "outputs": [],
   "source": [
    "RFC_METRIC = 'gini'  #metric used for RandomForrestClassifier\n",
    "NUM_ESTIMATORS = 100 #number of estimators used for RandomForrestClassifier\n",
    "NO_JOBS = 4 #number of parallel jobs used for RandomForrestClassifier\n",
    "\n",
    "#VALIDATION\n",
    "VALID_SIZE = 0.20 # simple validation using train_test_split\n",
    "\n",
    "#CROSS-VALIDATION\n",
    "NUMBER_KFOLDS = 5 #number of KFolds for cross-validation\n",
    "\n",
    "RANDOM_STATE = 2018\n",
    "\n",
    "MAX_ROUNDS = 1000 #lgb iterations\n",
    "EARLY_STOP = 50 #lgb early stop \n",
    "OPT_ROUNDS = 1000  #To be adjusted based on best validation rounds\n",
    "VERBOSE_EVAL = 50 #Print out metric result\n",
    "\n",
    "IS_LOCAL = True\n",
    "\n",
    "import os"
   ]
  },
  {
   "cell_type": "code",
   "execution_count": 31,
   "metadata": {},
   "outputs": [],
   "source": [
    "label = 'default.payment.next.month'\n",
    "train_df = pd.read_csv('/home/vineeth/Documents/GitWorkSpace/PytorchRecipes/SimpleMLP/Dataset/defaultCredit/fold0/train/data.csv')\n",
    "valid_df = pd.read_csv('/home/vineeth/Documents/GitWorkSpace/PytorchRecipes/SimpleMLP/Dataset/defaultCredit/fold0/valid/data.csv')\n",
    "test_df = pd.read_csv('/home/vineeth/Documents/GitWorkSpace/PytorchRecipes/SimpleMLP/Dataset/defaultCredit/fold0/test/data.csv')\n",
    "train_label, valid_label, test_label = train_df[label], valid_df[label], test_df[label]\n",
    "numerical_feat = pd.read_csv('/home/vineeth/Documents/GitWorkSpace/PytorchRecipes/SimpleMLP/Dataset/defaultCredit/numerical_clms.csv').columns\n",
    "train_df = train_df[numerical_feat]\n",
    "valid_df = valid_df[numerical_feat]\n",
    "test_df = test_df[numerical_feat]\n",
    "predictors = train_df.columns"
   ]
  },
  {
   "cell_type": "code",
   "execution_count": 32,
   "metadata": {},
   "outputs": [
    {
     "data": {
      "text/html": [
       "<div>\n",
       "<style scoped>\n",
       "    .dataframe tbody tr th:only-of-type {\n",
       "        vertical-align: middle;\n",
       "    }\n",
       "\n",
       "    .dataframe tbody tr th {\n",
       "        vertical-align: top;\n",
       "    }\n",
       "\n",
       "    .dataframe thead th {\n",
       "        text-align: right;\n",
       "    }\n",
       "</style>\n",
       "<table border=\"1\" class=\"dataframe\">\n",
       "  <thead>\n",
       "    <tr style=\"text-align: right;\">\n",
       "      <th></th>\n",
       "      <th>LIMIT_BAL</th>\n",
       "      <th>AGE</th>\n",
       "      <th>BILL_AMT1</th>\n",
       "      <th>BILL_AMT2</th>\n",
       "      <th>BILL_AMT3</th>\n",
       "      <th>BILL_AMT4</th>\n",
       "      <th>BILL_AMT5</th>\n",
       "      <th>BILL_AMT6</th>\n",
       "      <th>PAY_AMT1</th>\n",
       "      <th>PAY_AMT2</th>\n",
       "      <th>PAY_AMT3</th>\n",
       "      <th>PAY_AMT4</th>\n",
       "      <th>PAY_AMT5</th>\n",
       "      <th>PAY_AMT6</th>\n",
       "    </tr>\n",
       "  </thead>\n",
       "  <tbody>\n",
       "    <tr>\n",
       "      <th>0</th>\n",
       "      <td>-0.365981</td>\n",
       "      <td>-0.812074</td>\n",
       "      <td>0.121745</td>\n",
       "      <td>0.130499</td>\n",
       "      <td>0.183809</td>\n",
       "      <td>0.275557</td>\n",
       "      <td>0.356085</td>\n",
       "      <td>0.442651</td>\n",
       "      <td>-0.341942</td>\n",
       "      <td>-0.126784</td>\n",
       "      <td>-0.126411</td>\n",
       "      <td>-0.116564</td>\n",
       "      <td>0.013131</td>\n",
       "      <td>-0.293382</td>\n",
       "    </tr>\n",
       "    <tr>\n",
       "      <th>1</th>\n",
       "      <td>-0.674276</td>\n",
       "      <td>-1.246020</td>\n",
       "      <td>-0.690400</td>\n",
       "      <td>-0.671425</td>\n",
       "      <td>-0.409227</td>\n",
       "      <td>-0.588044</td>\n",
       "      <td>-0.629290</td>\n",
       "      <td>-0.555651</td>\n",
       "      <td>-0.257657</td>\n",
       "      <td>0.556969</td>\n",
       "      <td>0.012684</td>\n",
       "      <td>-0.176631</td>\n",
       "      <td>0.065363</td>\n",
       "      <td>-0.119114</td>\n",
       "    </tr>\n",
       "    <tr>\n",
       "      <th>2</th>\n",
       "      <td>-1.136720</td>\n",
       "      <td>1.249166</td>\n",
       "      <td>-0.463971</td>\n",
       "      <td>-0.182094</td>\n",
       "      <td>-0.455414</td>\n",
       "      <td>-0.419745</td>\n",
       "      <td>-0.403667</td>\n",
       "      <td>-0.386071</td>\n",
       "      <td>-0.251378</td>\n",
       "      <td>-0.083382</td>\n",
       "      <td>-0.205927</td>\n",
       "      <td>-0.276146</td>\n",
       "      <td>-0.281409</td>\n",
       "      <td>-0.270881</td>\n",
       "    </tr>\n",
       "    <tr>\n",
       "      <th>3</th>\n",
       "      <td>-0.905498</td>\n",
       "      <td>0.055816</td>\n",
       "      <td>-0.049220</td>\n",
       "      <td>-0.008951</td>\n",
       "      <td>0.038614</td>\n",
       "      <td>0.091853</td>\n",
       "      <td>-0.499282</td>\n",
       "      <td>-0.484068</td>\n",
       "      <td>-0.221191</td>\n",
       "      <td>-0.161505</td>\n",
       "      <td>-0.231599</td>\n",
       "      <td>-0.276146</td>\n",
       "      <td>-0.281409</td>\n",
       "      <td>-0.272231</td>\n",
       "    </tr>\n",
       "    <tr>\n",
       "      <th>4</th>\n",
       "      <td>0.250611</td>\n",
       "      <td>-0.812074</td>\n",
       "      <td>-0.682442</td>\n",
       "      <td>-0.690997</td>\n",
       "      <td>-0.677943</td>\n",
       "      <td>-0.667849</td>\n",
       "      <td>-0.658140</td>\n",
       "      <td>-0.647804</td>\n",
       "      <td>-0.341942</td>\n",
       "      <td>-0.256990</td>\n",
       "      <td>-0.279762</td>\n",
       "      <td>-0.288913</td>\n",
       "      <td>-0.294893</td>\n",
       "      <td>-0.293382</td>\n",
       "    </tr>\n",
       "  </tbody>\n",
       "</table>\n",
       "</div>"
      ],
      "text/plain": [
       "   LIMIT_BAL       AGE  BILL_AMT1  BILL_AMT2  BILL_AMT3  BILL_AMT4  BILL_AMT5  \\\n",
       "0  -0.365981 -0.812074   0.121745   0.130499   0.183809   0.275557   0.356085   \n",
       "1  -0.674276 -1.246020  -0.690400  -0.671425  -0.409227  -0.588044  -0.629290   \n",
       "2  -1.136720  1.249166  -0.463971  -0.182094  -0.455414  -0.419745  -0.403667   \n",
       "3  -0.905498  0.055816  -0.049220  -0.008951   0.038614   0.091853  -0.499282   \n",
       "4   0.250611 -0.812074  -0.682442  -0.690997  -0.677943  -0.667849  -0.658140   \n",
       "\n",
       "   BILL_AMT6  PAY_AMT1  PAY_AMT2  PAY_AMT3  PAY_AMT4  PAY_AMT5  PAY_AMT6  \n",
       "0   0.442651 -0.341942 -0.126784 -0.126411 -0.116564  0.013131 -0.293382  \n",
       "1  -0.555651 -0.257657  0.556969  0.012684 -0.176631  0.065363 -0.119114  \n",
       "2  -0.386071 -0.251378 -0.083382 -0.205927 -0.276146 -0.281409 -0.270881  \n",
       "3  -0.484068 -0.221191 -0.161505 -0.231599 -0.276146 -0.281409 -0.272231  \n",
       "4  -0.647804 -0.341942 -0.256990 -0.279762 -0.288913 -0.294893 -0.293382  "
      ]
     },
     "execution_count": 32,
     "metadata": {},
     "output_type": "execute_result"
    }
   ],
   "source": [
    "train_df.head()"
   ]
  },
  {
   "cell_type": "code",
   "execution_count": 33,
   "metadata": {},
   "outputs": [],
   "source": [
    "# Prepare the train and valid datasets\n",
    "dtrain = xgb.DMatrix(train_df.values, train_label.values.flatten(), feature_names=predictors)\n",
    "dvalid = xgb.DMatrix(valid_df.values, valid_label.values.flatten(), feature_names=predictors)\n",
    "\n",
    "#What to monitor (in this case, **train** and **valid**)\n",
    "watchlist = [(dtrain, 'train'), (dvalid, 'valid')]\n",
    "\n",
    "# Set xgboost parameters\n",
    "params = {}\n",
    "params['objective'] = 'binary:logistic'\n",
    "params['eta'] = 0.039\n",
    "params['silent'] = True\n",
    "params['max_depth'] = 2\n",
    "params['subsample'] = 0.8\n",
    "params['colsample_bytree'] = 0.9\n",
    "params['eval_metric'] = ['auc','aucpr']\n",
    "params['random_state'] = RANDOM_STATE"
   ]
  },
  {
   "cell_type": "code",
   "execution_count": 34,
   "metadata": {},
   "outputs": [
    {
     "name": "stdout",
     "output_type": "stream",
     "text": [
      "[13:04:46] WARNING: /home/conda/feedstock_root/build_artifacts/xgboost-split_1660208814268/work/src/learner.cc:627: \n",
      "Parameters: { \"silent\" } might not be used.\n",
      "\n",
      "  This could be a false alarm, with some parameters getting used by language bindings but\n",
      "  then being mistakenly passed down to XGBoost core, or some parameter actually being used\n",
      "  but getting flagged wrongly here. Please open an issue if you find any such cases.\n",
      "\n",
      "\n",
      "[0]\ttrain-auc:0.63139\ttrain-aucpr:0.31942\tvalid-auc:0.61069\tvalid-aucpr:0.31300\n"
     ]
    },
    {
     "name": "stderr",
     "output_type": "stream",
     "text": [
      "/home/vineeth/anaconda3/envs/pytorch_08_2022/lib/python3.10/site-packages/xgboost/core.py:525: FutureWarning: Pass `evals` as keyword args.  Passing these as positional arguments will be considered as error in future releases.\n",
      "  warnings.warn(\n"
     ]
    },
    {
     "name": "stdout",
     "output_type": "stream",
     "text": [
      "[50]\ttrain-auc:0.69745\ttrain-aucpr:0.40199\tvalid-auc:0.66648\tvalid-aucpr:0.38212\n",
      "[100]\ttrain-auc:0.71735\ttrain-aucpr:0.42776\tvalid-auc:0.68073\tvalid-aucpr:0.40168\n",
      "[150]\ttrain-auc:0.72813\ttrain-aucpr:0.44197\tvalid-auc:0.69172\tvalid-aucpr:0.41418\n",
      "[200]\ttrain-auc:0.73495\ttrain-aucpr:0.45077\tvalid-auc:0.69607\tvalid-aucpr:0.42018\n",
      "[250]\ttrain-auc:0.74120\ttrain-aucpr:0.45864\tvalid-auc:0.69943\tvalid-aucpr:0.42519\n",
      "[300]\ttrain-auc:0.74545\ttrain-aucpr:0.46419\tvalid-auc:0.70306\tvalid-aucpr:0.42988\n",
      "[350]\ttrain-auc:0.74875\ttrain-aucpr:0.46787\tvalid-auc:0.70467\tvalid-aucpr:0.43219\n",
      "[400]\ttrain-auc:0.75129\ttrain-aucpr:0.47095\tvalid-auc:0.70577\tvalid-aucpr:0.43303\n",
      "[450]\ttrain-auc:0.75343\ttrain-aucpr:0.47382\tvalid-auc:0.70619\tvalid-aucpr:0.43423\n",
      "[500]\ttrain-auc:0.75522\ttrain-aucpr:0.47600\tvalid-auc:0.70598\tvalid-aucpr:0.43461\n",
      "[550]\ttrain-auc:0.75712\ttrain-aucpr:0.47815\tvalid-auc:0.70658\tvalid-aucpr:0.43562\n",
      "[600]\ttrain-auc:0.75883\ttrain-aucpr:0.48028\tvalid-auc:0.70647\tvalid-aucpr:0.43599\n",
      "[650]\ttrain-auc:0.76023\ttrain-aucpr:0.48224\tvalid-auc:0.70670\tvalid-aucpr:0.43590\n",
      "[660]\ttrain-auc:0.76061\ttrain-aucpr:0.48260\tvalid-auc:0.70658\tvalid-aucpr:0.43593\n"
     ]
    }
   ],
   "source": [
    "\n",
    "model = xgb.train(params, \n",
    "                dtrain, \n",
    "                \n",
    "                MAX_ROUNDS, \n",
    "                watchlist, \n",
    "                early_stopping_rounds=EARLY_STOP, \n",
    "                maximize=True, \n",
    "                verbose_eval=VERBOSE_EVAL)"
   ]
  },
  {
   "cell_type": "code",
   "execution_count": 37,
   "metadata": {},
   "outputs": [
    {
     "name": "stdout",
     "output_type": "stream",
     "text": [
      "              precision    recall  f1-score   support\n",
      "\n",
      "           0       0.80      0.97      0.88      4660\n",
      "           1       0.62      0.15      0.24      1340\n",
      "\n",
      "    accuracy                           0.79      6000\n",
      "   macro avg       0.71      0.56      0.56      6000\n",
      "weighted avg       0.76      0.79      0.74      6000\n",
      "\n",
      "ROC-AUC:0.7418683940810966\n",
      "PrecisionRecall-AUC:0.45758705535278\n"
     ]
    }
   ],
   "source": [
    "from sklearn.metrics import classification_report\n",
    "from sklearn.metrics import average_precision_score, roc_auc_score\n",
    "dtest = xgb.DMatrix(test_df.values, feature_names=predictors)\n",
    "y_pred = model.predict(dtest)\n",
    "print(classification_report(test_label.values.flatten(), np.rint(y_pred)))\n",
    "\n",
    "print(\"ROC-AUC:{}\".format(roc_auc_score(test_label.values.flatten(), y_pred)))\n",
    "print(\"PrecisionRecall-AUC:{}\".format(average_precision_score(test_label.values.flatten(), y_pred)))"
   ]
  },
  {
   "cell_type": "code",
   "execution_count": 38,
   "metadata": {},
   "outputs": [
    {
     "data": {
      "image/png": "[encoded data removed]",
      "text/plain": [
       "<Figure size 800x500 with 1 Axes>"
      ]
     },
     "metadata": {},
     "output_type": "display_data"
    }
   ],
   "source": [
    "fig, (ax) = plt.subplots(ncols=1, figsize=(8,5))\n",
    "xgb.plot_importance(model, height=0.8, title=\"Features importance (XGBoost)\", ax=ax, color=\"green\") \n",
    "plt.show()"
   ]
  },
  {
   "cell_type": "code",
   "execution_count": null,
   "metadata": {},
   "outputs": [],
   "source": []
  }
 ],
 "metadata": {
  "kernelspec": {
   "display_name": "pytorch_08_2022",
   "language": "python",
   "name": "python3"
  },
  "language_info": {
   "codemirror_mode": {
    "name": "ipython",
    "version": 3
   },
   "file_extension": ".py",
   "mimetype": "text/x-python",
   "name": "python",
   "nbconvert_exporter": "python",
   "pygments_lexer": "ipython3",
   "version": "3.10.5"
  },
  "orig_nbformat": 4,
  "vscode": {
   "interpreter": {
    "hash": "32ee0b147e149566a59866a9b81fce6957450a1d2ebb4283960264b1ef5838e0"
   }
  }
 },
 "nbformat": 4,
 "nbformat_minor": 2
}
