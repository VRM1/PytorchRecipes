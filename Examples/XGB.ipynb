{
 "cells": [
  {
   "cell_type": "code",
   "execution_count": 5,
   "metadata": {},
   "outputs": [],
   "source": [
    "import pandas as pd \n",
    "import numpy as np\n",
    "import matplotlib\n",
    "import matplotlib.pyplot as plt\n",
    "import seaborn as sns\n",
    "%matplotlib inline \n",
    "\n",
    "import gc\n",
    "from datetime import datetime \n",
    "from sklearn.model_selection import train_test_split\n",
    "from sklearn.model_selection import KFold\n",
    "from sklearn.metrics import roc_auc_score\n",
    "import xgboost as xgb\n",
    "\n",
    "pd.set_option('display.max_columns', 100)"
   ]
  },
  {
   "cell_type": "code",
   "execution_count": 16,
   "metadata": {},
   "outputs": [],
   "source": [
    "RFC_METRIC = 'gini'  #metric used for RandomForrestClassifier\n",
    "NUM_ESTIMATORS = 500 #number of estimators used for RandomForrestClassifier\n",
    "NO_JOBS = 4 #number of parallel jobs used for RandomForrestClassifier\n",
    "\n",
    "#VALIDATION\n",
    "VALID_SIZE = 0.20 # simple validation using train_test_split\n",
    "\n",
    "#CROSS-VALIDATION\n",
    "NUMBER_KFOLDS = 5 #number of KFolds for cross-validation\n",
    "\n",
    "RANDOM_STATE = 2018\n",
    "\n",
    "MAX_ROUNDS = 1000 #lgb iterations\n",
    "EARLY_STOP = 50 #lgb early stop \n",
    "OPT_ROUNDS = 1000  #To be adjusted based on best validation rounds\n",
    "VERBOSE_EVAL = 50 #Print out metric result\n",
    "\n",
    "IS_LOCAL = True\n",
    "\n",
    "import os"
   ]
  },
  {
   "cell_type": "code",
   "execution_count": 22,
   "metadata": {},
   "outputs": [
    {
     "data": {
      "text/html": [
       "<div>\n",
       "<style scoped>\n",
       "    .dataframe tbody tr th:only-of-type {\n",
       "        vertical-align: middle;\n",
       "    }\n",
       "\n",
       "    .dataframe tbody tr th {\n",
       "        vertical-align: top;\n",
       "    }\n",
       "\n",
       "    .dataframe thead th {\n",
       "        text-align: right;\n",
       "    }\n",
       "</style>\n",
       "<table border=\"1\" class=\"dataframe\">\n",
       "  <thead>\n",
       "    <tr style=\"text-align: right;\">\n",
       "      <th></th>\n",
       "      <th>age</th>\n",
       "      <th>duration</th>\n",
       "      <th>campaign</th>\n",
       "      <th>pdays</th>\n",
       "      <th>previous</th>\n",
       "      <th>emp.var.rate</th>\n",
       "      <th>cons.price.idx</th>\n",
       "      <th>cons.conf.idx</th>\n",
       "      <th>euribor3m</th>\n",
       "      <th>nr.employed</th>\n",
       "    </tr>\n",
       "  </thead>\n",
       "  <tbody>\n",
       "    <tr>\n",
       "      <th>0</th>\n",
       "      <td>-1.249775</td>\n",
       "      <td>-0.074380</td>\n",
       "      <td>1.961172</td>\n",
       "      <td>0.195414</td>\n",
       "      <td>-0.349494</td>\n",
       "      <td>0.839061</td>\n",
       "      <td>0.591424</td>\n",
       "      <td>-0.474791</td>\n",
       "      <td>0.773575</td>\n",
       "      <td>0.845170</td>\n",
       "    </tr>\n",
       "    <tr>\n",
       "      <th>1</th>\n",
       "      <td>-1.057857</td>\n",
       "      <td>-0.533350</td>\n",
       "      <td>0.156105</td>\n",
       "      <td>0.195414</td>\n",
       "      <td>-0.349494</td>\n",
       "      <td>0.839061</td>\n",
       "      <td>-0.227465</td>\n",
       "      <td>0.951267</td>\n",
       "      <td>0.773575</td>\n",
       "      <td>0.845170</td>\n",
       "    </tr>\n",
       "    <tr>\n",
       "      <th>2</th>\n",
       "      <td>-0.386145</td>\n",
       "      <td>-0.398359</td>\n",
       "      <td>-0.204909</td>\n",
       "      <td>0.195414</td>\n",
       "      <td>-0.349494</td>\n",
       "      <td>0.839061</td>\n",
       "      <td>0.591424</td>\n",
       "      <td>-0.474791</td>\n",
       "      <td>0.772422</td>\n",
       "      <td>0.845170</td>\n",
       "    </tr>\n",
       "    <tr>\n",
       "      <th>3</th>\n",
       "      <td>-0.098268</td>\n",
       "      <td>-0.386788</td>\n",
       "      <td>-0.204909</td>\n",
       "      <td>0.195414</td>\n",
       "      <td>-0.349494</td>\n",
       "      <td>-1.197935</td>\n",
       "      <td>-1.179380</td>\n",
       "      <td>-1.231034</td>\n",
       "      <td>-1.357965</td>\n",
       "      <td>-0.940281</td>\n",
       "    </tr>\n",
       "    <tr>\n",
       "      <th>4</th>\n",
       "      <td>-0.002309</td>\n",
       "      <td>-0.085951</td>\n",
       "      <td>1.600159</td>\n",
       "      <td>0.195414</td>\n",
       "      <td>-0.349494</td>\n",
       "      <td>0.839061</td>\n",
       "      <td>-0.227465</td>\n",
       "      <td>0.951267</td>\n",
       "      <td>0.775305</td>\n",
       "      <td>0.845170</td>\n",
       "    </tr>\n",
       "  </tbody>\n",
       "</table>\n",
       "</div>"
      ],
      "text/plain": [
       "        age  duration  campaign     pdays  previous  emp.var.rate  \\\n",
       "0 -1.249775 -0.074380  1.961172  0.195414 -0.349494      0.839061   \n",
       "1 -1.057857 -0.533350  0.156105  0.195414 -0.349494      0.839061   \n",
       "2 -0.386145 -0.398359 -0.204909  0.195414 -0.349494      0.839061   \n",
       "3 -0.098268 -0.386788 -0.204909  0.195414 -0.349494     -1.197935   \n",
       "4 -0.002309 -0.085951  1.600159  0.195414 -0.349494      0.839061   \n",
       "\n",
       "   cons.price.idx  cons.conf.idx  euribor3m  nr.employed  \n",
       "0        0.591424      -0.474791   0.773575     0.845170  \n",
       "1       -0.227465       0.951267   0.773575     0.845170  \n",
       "2        0.591424      -0.474791   0.772422     0.845170  \n",
       "3       -1.179380      -1.231034  -1.357965    -0.940281  \n",
       "4       -0.227465       0.951267   0.775305     0.845170  "
      ]
     },
     "execution_count": 22,
     "metadata": {},
     "output_type": "execute_result"
    }
   ],
   "source": [
    "lukup = {'defaultCredit':'default.payment.next.month', 'bank':'y'}\n",
    "name = 'bank'\n",
    "label = lukup[name]\n",
    "train_df = pd.read_csv('/home/vineeth/Documents/GitWorkSpace/PytorchRecipes/SimpleMLP/Dataset/{}/fold0/train/data.csv'.format(name))\n",
    "valid_df = pd.read_csv('/home/vineeth/Documents/GitWorkSpace/PytorchRecipes/SimpleMLP/Dataset/{}/fold0/valid/data.csv'.format(name))\n",
    "test_df = pd.read_csv('/home/vineeth/Documents/GitWorkSpace/PytorchRecipes/SimpleMLP/Dataset/{}/fold0/test/data.csv'.format(name))\n",
    "train_label, valid_label, test_label = train_df[label], valid_df[label], test_df[label]\n",
    "train_df, valid_df, test_df = train_df.drop(label, axis=1), valid_df.drop(label, axis=1), test_df.drop(label, axis=1)\n",
    "numerical_feat = pd.read_csv('/home/vineeth/Documents/GitWorkSpace/PytorchRecipes/SimpleMLP/Dataset/{}/numerical_clms.csv'.format(name)).columns\n",
    "train_df = train_df[numerical_feat]\n",
    "valid_df = valid_df[numerical_feat]\n",
    "test_df = test_df[numerical_feat]\n",
    "predictors = train_df.columns\n",
    "train_df.head()"
   ]
  },
  {
   "cell_type": "code",
   "execution_count": 23,
   "metadata": {},
   "outputs": [],
   "source": [
    "# Prepare the train and valid datasets\n",
    "dtrain = xgb.DMatrix(train_df.values, train_label.values.flatten(), feature_names=predictors)\n",
    "dvalid = xgb.DMatrix(valid_df.values, valid_label.values.flatten(), feature_names=predictors)\n",
    "\n",
    "#What to monitor (in this case, **train** and **valid**)\n",
    "watchlist = [(dtrain, 'train'), (dvalid, 'valid')]\n",
    "\n",
    "# Set xgboost parameters\n",
    "params = {}\n",
    "params['objective'] = 'binary:logistic'\n",
    "params['eta'] = 0.039\n",
    "params['silent'] = True\n",
    "params['max_depth'] = 2\n",
    "params['subsample'] = 0.8\n",
    "params['colsample_bytree'] = 0.9\n",
    "params['eval_metric'] = ['auc','aucpr']\n",
    "params['random_state'] = RANDOM_STATE"
   ]
  },
  {
   "cell_type": "code",
   "execution_count": 24,
   "metadata": {},
   "outputs": [
    {
     "name": "stdout",
     "output_type": "stream",
     "text": [
      "[22:06:33] WARNING: /home/conda/feedstock_root/build_artifacts/xgboost-split_1667849527992/work/src/learner.cc:767: \n",
      "Parameters: { \"silent\" } are not used.\n",
      "\n",
      "[0]\ttrain-auc:0.84314\ttrain-aucpr:0.49701\tvalid-auc:0.83174\tvalid-aucpr:0.46186\n"
     ]
    },
    {
     "name": "stderr",
     "output_type": "stream",
     "text": [
      "/home/vineeth/anaconda3/envs/pytorch_01_2023/lib/python3.10/site-packages/xgboost/core.py:617: FutureWarning: Pass `evals` as keyword args.\n",
      "  warnings.warn(msg, FutureWarning)\n"
     ]
    },
    {
     "name": "stdout",
     "output_type": "stream",
     "text": [
      "[50]\ttrain-auc:0.93063\ttrain-aucpr:0.61817\tvalid-auc:0.91758\tvalid-aucpr:0.55794\n",
      "[100]\ttrain-auc:0.93703\ttrain-aucpr:0.63331\tvalid-auc:0.92156\tvalid-aucpr:0.57714\n",
      "[150]\ttrain-auc:0.94008\ttrain-aucpr:0.64396\tvalid-auc:0.92370\tvalid-aucpr:0.58634\n",
      "[200]\ttrain-auc:0.94222\ttrain-aucpr:0.65180\tvalid-auc:0.92643\tvalid-aucpr:0.59350\n",
      "[250]\ttrain-auc:0.94364\ttrain-aucpr:0.65778\tvalid-auc:0.92796\tvalid-aucpr:0.59714\n",
      "[300]\ttrain-auc:0.94507\ttrain-aucpr:0.66298\tvalid-auc:0.92928\tvalid-aucpr:0.60307\n",
      "[350]\ttrain-auc:0.94639\ttrain-aucpr:0.66673\tvalid-auc:0.93028\tvalid-aucpr:0.60493\n",
      "[400]\ttrain-auc:0.94781\ttrain-aucpr:0.67060\tvalid-auc:0.93134\tvalid-aucpr:0.60529\n",
      "[417]\ttrain-auc:0.94808\ttrain-aucpr:0.67267\tvalid-auc:0.93149\tvalid-aucpr:0.60623\n"
     ]
    }
   ],
   "source": [
    "\n",
    "model = xgb.train(params, \n",
    "                dtrain, \n",
    "                \n",
    "                MAX_ROUNDS, \n",
    "                watchlist, \n",
    "                early_stopping_rounds=EARLY_STOP, \n",
    "                maximize=True, \n",
    "                verbose_eval=VERBOSE_EVAL)"
   ]
  },
  {
   "cell_type": "code",
   "execution_count": 25,
   "metadata": {},
   "outputs": [
    {
     "name": "stdout",
     "output_type": "stream",
     "text": [
      "              precision    recall  f1-score   support\n",
      "\n",
      "           0       0.94      0.97      0.95      7306\n",
      "           1       0.65      0.51      0.57       932\n",
      "\n",
      "    accuracy                           0.91      8238\n",
      "   macro avg       0.80      0.74      0.76      8238\n",
      "weighted avg       0.91      0.91      0.91      8238\n",
      "\n",
      "ROC-AUC:0.9446831577079924\n",
      "PrecisionRecall-AUC:0.6459461412374515\n"
     ]
    }
   ],
   "source": [
    "from sklearn.metrics import classification_report\n",
    "from sklearn.metrics import average_precision_score, roc_auc_score\n",
    "dtest = xgb.DMatrix(test_df.values, feature_names=predictors)\n",
    "y_pred = model.predict(dtest)\n",
    "print(classification_report(test_label.values.flatten(), np.rint(y_pred)))\n",
    "\n",
    "print(\"ROC-AUC:{}\".format(roc_auc_score(test_label.values.flatten(), y_pred)))\n",
    "print(\"PrecisionRecall-AUC:{}\".format(average_precision_score(test_label.values.flatten(), y_pred)))"
   ]
  },
  {
   "cell_type": "code",
   "execution_count": 21,
   "metadata": {},
   "outputs": [
    {
     "data": {
      "image/png": "[encoded data removed]",
      "text/plain": [
       "<Figure size 800x500 with 1 Axes>"
      ]
     },
     "metadata": {},
     "output_type": "display_data"
    }
   ],
   "source": [
    "fig, (ax) = plt.subplots(ncols=1, figsize=(8,5))\n",
    "xgb.plot_importance(model, height=0.8, title=\"Features importance (XGBoost)\", ax=ax, color=\"green\") \n",
    "plt.show()"
   ]
  },
  {
   "cell_type": "code",
   "execution_count": null,
   "metadata": {},
   "outputs": [],
   "source": []
  }
 ],
 "metadata": {
  "kernelspec": {
   "display_name": "pytorch_01_2023",
   "language": "python",
   "name": "python3"
  },
  "language_info": {
   "codemirror_mode": {
    "name": "ipython",
    "version": 3
   },
   "file_extension": ".py",
   "mimetype": "text/x-python",
   "name": "python",
   "nbconvert_exporter": "python",
   "pygments_lexer": "ipython3",
   "version": "3.10.9"
  },
  "orig_nbformat": 4,
  "vscode": {
   "interpreter": {
    "hash": "7d10a94725299ff6d818d01d625e2a1f3320aa6c5e76a15126000b0a88824912"
   }
  }
 },
 "nbformat": 4,
 "nbformat_minor": 2
}
